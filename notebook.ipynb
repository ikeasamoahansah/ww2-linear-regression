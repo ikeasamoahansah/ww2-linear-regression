{
 "cells": [
  {
   "cell_type": "code",
   "execution_count": 3,
   "metadata": {},
   "outputs": [
    {
     "name": "stderr",
     "output_type": "stream",
     "text": [
      "/tmp/ipykernel_27614/1048950420.py:4: DtypeWarning: Columns (7,8,18,25) have mixed types. Specify dtype option on import or set low_memory=False.\n",
      "  weather_df = pd.read_csv(\"./data/Summary of Weather.csv\")\n"
     ]
    }
   ],
   "source": [
    "import pandas as pd\n",
    "import matplotlib as plt\n",
    "\n",
    "weather_df = pd.read_csv(\"./data/Summary of Weather.csv\")\n",
    "stations_df = pd.read_csv(\"./data/Weather Station Locations.csv\")"
   ]
  },
  {
   "cell_type": "code",
   "execution_count": 4,
   "metadata": {},
   "outputs": [
    {
     "name": "stdout",
     "output_type": "stream",
     "text": [
      "     STA      Date Precip  WindGustSpd    MaxTemp    MinTemp   MeanTemp  \\\n",
      "0  10001  1942-7-1  1.016          NaN  25.555556  22.222222  23.888889   \n",
      "1  10001  1942-7-2      0          NaN  28.888889  21.666667  25.555556   \n",
      "2  10001  1942-7-3   2.54          NaN  26.111111  22.222222  24.444444   \n",
      "3  10001  1942-7-4   2.54          NaN  26.666667  22.222222  24.444444   \n",
      "4  10001  1942-7-5      0          NaN  26.666667  21.666667  24.444444   \n",
      "\n",
      "  Snowfall PoorWeather  YR  ...  FB  FTI ITH  PGT  TSHDSBRSGF  SD3  RHX  RHN  \\\n",
      "0      0.0         NaN  42  ... NaN  NaN NaN  NaN         NaN  NaN  NaN  NaN   \n",
      "1      0.0         NaN  42  ... NaN  NaN NaN  NaN         NaN  NaN  NaN  NaN   \n",
      "2      0.0         NaN  42  ... NaN  NaN NaN  NaN         NaN  NaN  NaN  NaN   \n",
      "3      0.0         NaN  42  ... NaN  NaN NaN  NaN         NaN  NaN  NaN  NaN   \n",
      "4      0.0         NaN  42  ... NaN  NaN NaN  NaN         NaN  NaN  NaN  NaN   \n",
      "\n",
      "  RVG  WTE  \n",
      "0 NaN  NaN  \n",
      "1 NaN  NaN  \n",
      "2 NaN  NaN  \n",
      "3 NaN  NaN  \n",
      "4 NaN  NaN  \n",
      "\n",
      "[5 rows x 31 columns]\n",
      "    WBAN            NAME STATE/COUNTRY ID    LAT     LON  ELEV   Latitude  \\\n",
      "0  33013          AIN EL               AL  3623N  00637E   611  36.383333   \n",
      "1  33031        LA SENIA               AL  3537N  00037E    88  35.616667   \n",
      "2  33023  MAISON BLANCHE               AL  3643N  00314E    23  36.716667   \n",
      "3  33044        TELERGMA               AL  3607N  00621E   754  36.116667   \n",
      "4  12001         TINDOUF               AL  2741N  00809W   443  27.683333   \n",
      "\n",
      "   Longitude  \n",
      "0   6.650000  \n",
      "1   0.583333  \n",
      "2   3.216667  \n",
      "3   6.416667  \n",
      "4  -8.083333  \n"
     ]
    }
   ],
   "source": [
    "print(weather_df.head())\n",
    "print(stations_df.head())\n"
   ]
  },
  {
   "cell_type": "code",
   "execution_count": 5,
   "metadata": {},
   "outputs": [
    {
     "data": {
      "text/plain": [
       "STA    Date   Precip  WindGustSpd  MaxTemp  MinTemp  MeanTemp  Snowfall  PoorWeather  YR     MO     DA     PRCP   DR     SPD    MAX    MIN    MEA    SNF    SND    FT    FB    FTI   ITH   PGT    TSHDSBRSGF  SD3   RHX   RHN   RVG   WTE \n",
       "False  False  False   True         False    False    False     False     True         False  False  False  False  True   True   False  False  False  False  True   True  True  True  True  True   True        True  True  True  True  True    79935\n",
       "                                                                         False        False  False  False  False  True   True   False  False  False  False  True   True  True  True  True  True   False       True  True  True  True  True    30311\n",
       "                                                                                                                                                            False  True  True  True  True  True   False       True  True  True  True  True     3083\n",
       "                                                                         True         False  False  False  False  True   True   False  False  False  False  False  True  True  True  True  True   True        True  True  True  True  True     1835\n",
       "                                                                                                           True   True   True   False  False  False  False  True   True  True  True  True  True   True        True  True  True  True  True     1621\n",
       "                                                               True      False        False  False  False  False  True   True   False  False  False  True   True   True  True  True  True  True   False       True  True  True  True  True      466\n",
       "                                                               False     True         False  False  False  False  True   True   True   True   True   False  True   True  True  True  True  True   True        True  True  True  True  True      422\n",
       "                                                               True      True         False  False  False  False  True   True   False  False  False  True   True   True  True  True  True  True   True        True  True  True  True  True      406\n",
       "                      False        False    False    False     False     True         False  False  False  False  False  False  False  False  False  False  False  True  True  True  True  False  True        True  True  True  True  True      316\n",
       "                                                                         False        False  False  False  False  False  False  False  False  False  False  False  True  True  True  True  False  False       True  True  True  True  True      208\n",
       "                      True         False    False    False     True      True         False  False  False  True   True   True   False  False  False  True   True   True  True  True  True  True   True        True  True  True  True  True      206\n",
       "                                                               False     False        False  False  False  True   True   True   False  False  False  False  False  True  True  True  True  True   False       True  True  True  True  True       54\n",
       "                                                               True      False        False  False  False  False  True   True   False  False  False  True   False  True  True  True  True  True   False       True  True  True  True  True       50\n",
       "                                                               False     True         False  False  False  False  True   True   True   False  True   False  True   True  True  True  True  True   True        True  True  True  True  True       22\n",
       "                                                               True      False        False  False  False  True   True   True   False  False  False  True   True   True  True  True  True  True   False       True  True  True  True  True       22\n",
       "                                                               False     False        False  False  False  True   True   True   False  False  False  False  True   True  True  True  True  True   False       True  True  True  True  True       12\n",
       "                                                                         True         False  False  False  False  True   True   False  True   True   False  True   True  True  True  True  True   True        True  True  True  True  True       11\n",
       "                                                                         False        False  False  False  False  True   True   True   True   True   False  True   True  True  True  True  True   False       True  True  True  True  True       10\n",
       "                                                               True      True         False  False  False  False  True   True   True   True   True   True   True   True  True  True  True  True   True        True  True  True  True  True        8\n",
       "                      False        False    False    False     False     False        False  False  False  False  False  False  False  False  False  False  False  True  True  True  True  True   False       True  True  True  True  True        8\n",
       "                      True         False    False    False     False     True         False  False  False  True   True   True   False  True   True   False  True   True  True  True  True  True   True        True  True  True  True  True        8\n",
       "                                                                                                                                       False  False  False  False  True  True  True  True  True   True        True  True  True  True  True        6\n",
       "                                                                         False        False  False  False  False  True   True   True   False  True   False  True   True  True  True  True  True   False       True  True  True  True  True        6\n",
       "                                                               True      False        False  False  False  False  True   True   True   True   True   True   True   True  True  True  True  True   False       True  True  True  True  True        2\n",
       "                                                               False     False        False  False  False  False  True   True   False  True   True   False  True   True  True  True  True  True   False       True  True  True  True  True        2\n",
       "                                                                         True         False  False  False  True   True   True   True   False  True   False  True   True  True  True  True  True   True        True  True  True  True  True        2\n",
       "                                                               True      False        False  False  False  False  True   True   True   True   True   True   False  True  True  True  True  True   False       True  True  True  True  True        2\n",
       "                                                               False     True         False  False  False  False  True   True   False  True   False  False  True   True  True  True  True  True   True        True  True  True  True  True        2\n",
       "                                                                                                                                       False  True   False  True   True  True  True  True  True   True        True  True  True  True  True        2\n",
       "                                                               True      False        False  False  False  True   True   True   False  True   True   True   True   True  True  True  True  True   False       True  True  True  True  True        1\n",
       "                                                               False     True         False  False  False  False  False  True   False  False  False  False  False  True  True  True  True  False  True        True  True  True  True  True        1\n",
       "Name: count, dtype: int64"
      ]
     },
     "execution_count": 5,
     "metadata": {},
     "output_type": "execute_result"
    }
   ],
   "source": [
    "weather_df.isna().value_counts()"
   ]
  },
  {
   "cell_type": "code",
   "execution_count": 6,
   "metadata": {},
   "outputs": [
    {
     "data": {
      "text/html": [
       "<div>\n",
       "<style scoped>\n",
       "    .dataframe tbody tr th:only-of-type {\n",
       "        vertical-align: middle;\n",
       "    }\n",
       "\n",
       "    .dataframe tbody tr th {\n",
       "        vertical-align: top;\n",
       "    }\n",
       "\n",
       "    .dataframe thead th {\n",
       "        text-align: right;\n",
       "    }\n",
       "</style>\n",
       "<table border=\"1\" class=\"dataframe\">\n",
       "  <thead>\n",
       "    <tr style=\"text-align: right;\">\n",
       "      <th></th>\n",
       "      <th>WBAN</th>\n",
       "      <th>NAME</th>\n",
       "      <th>STATE/COUNTRY ID</th>\n",
       "      <th>LAT</th>\n",
       "      <th>LON</th>\n",
       "      <th>ELEV</th>\n",
       "      <th>Latitude</th>\n",
       "      <th>Longitude</th>\n",
       "    </tr>\n",
       "  </thead>\n",
       "  <tbody>\n",
       "    <tr>\n",
       "      <th>0</th>\n",
       "      <td>33013</td>\n",
       "      <td>AIN EL</td>\n",
       "      <td>AL</td>\n",
       "      <td>3623N</td>\n",
       "      <td>00637E</td>\n",
       "      <td>611</td>\n",
       "      <td>36.383333</td>\n",
       "      <td>6.650000</td>\n",
       "    </tr>\n",
       "    <tr>\n",
       "      <th>1</th>\n",
       "      <td>33031</td>\n",
       "      <td>LA SENIA</td>\n",
       "      <td>AL</td>\n",
       "      <td>3537N</td>\n",
       "      <td>00037E</td>\n",
       "      <td>88</td>\n",
       "      <td>35.616667</td>\n",
       "      <td>0.583333</td>\n",
       "    </tr>\n",
       "    <tr>\n",
       "      <th>2</th>\n",
       "      <td>33023</td>\n",
       "      <td>MAISON BLANCHE</td>\n",
       "      <td>AL</td>\n",
       "      <td>3643N</td>\n",
       "      <td>00314E</td>\n",
       "      <td>23</td>\n",
       "      <td>36.716667</td>\n",
       "      <td>3.216667</td>\n",
       "    </tr>\n",
       "    <tr>\n",
       "      <th>3</th>\n",
       "      <td>33044</td>\n",
       "      <td>TELERGMA</td>\n",
       "      <td>AL</td>\n",
       "      <td>3607N</td>\n",
       "      <td>00621E</td>\n",
       "      <td>754</td>\n",
       "      <td>36.116667</td>\n",
       "      <td>6.416667</td>\n",
       "    </tr>\n",
       "    <tr>\n",
       "      <th>4</th>\n",
       "      <td>12001</td>\n",
       "      <td>TINDOUF</td>\n",
       "      <td>AL</td>\n",
       "      <td>2741N</td>\n",
       "      <td>00809W</td>\n",
       "      <td>443</td>\n",
       "      <td>27.683333</td>\n",
       "      <td>-8.083333</td>\n",
       "    </tr>\n",
       "  </tbody>\n",
       "</table>\n",
       "</div>"
      ],
      "text/plain": [
       "    WBAN            NAME STATE/COUNTRY ID    LAT     LON  ELEV   Latitude  \\\n",
       "0  33013          AIN EL               AL  3623N  00637E   611  36.383333   \n",
       "1  33031        LA SENIA               AL  3537N  00037E    88  35.616667   \n",
       "2  33023  MAISON BLANCHE               AL  3643N  00314E    23  36.716667   \n",
       "3  33044        TELERGMA               AL  3607N  00621E   754  36.116667   \n",
       "4  12001         TINDOUF               AL  2741N  00809W   443  27.683333   \n",
       "\n",
       "   Longitude  \n",
       "0   6.650000  \n",
       "1   0.583333  \n",
       "2   3.216667  \n",
       "3   6.416667  \n",
       "4  -8.083333  "
      ]
     },
     "execution_count": 6,
     "metadata": {},
     "output_type": "execute_result"
    }
   ],
   "source": [
    "stations_df.head()"
   ]
  },
  {
   "cell_type": "code",
   "execution_count": 7,
   "metadata": {},
   "outputs": [
    {
     "data": {
      "text/plain": [
       "WBAN   NAME   STATE/COUNTRY ID  LAT    LON    ELEV   Latitude  Longitude\n",
       "False  False  False             False  False  False  False     False        161\n",
       "Name: count, dtype: int64"
      ]
     },
     "execution_count": 7,
     "metadata": {},
     "output_type": "execute_result"
    }
   ],
   "source": [
    "stations_df.isna().value_counts()"
   ]
  },
  {
   "cell_type": "code",
   "execution_count": 8,
   "metadata": {},
   "outputs": [
    {
     "name": "stdout",
     "output_type": "stream",
     "text": [
      "-0.002575746623847104\n",
      "-0.005130090090327308\n",
      "-0.004152820980840224\n"
     ]
    }
   ],
   "source": [
    "print(weather_df['DA'].corr(weather_df['MinTemp']))\n",
    "print(weather_df['DA'].corr(weather_df['MaxTemp']))\n",
    "print(weather_df['DA'].corr(weather_df['MeanTemp']))\n",
    "\n"
   ]
  },
  {
   "cell_type": "code",
   "execution_count": 9,
   "metadata": {},
   "outputs": [
    {
     "data": {
      "text/plain": [
       "<module 'matplotlib' from '/home/ike/Desktop/programming/ww2/.venv/lib/python3.10/site-packages/matplotlib/__init__.py'>"
      ]
     },
     "execution_count": 9,
     "metadata": {},
     "output_type": "execute_result"
    }
   ],
   "source": []
  },
  {
   "cell_type": "code",
   "execution_count": null,
   "metadata": {},
   "outputs": [],
   "source": []
  }
 ],
 "metadata": {
  "kernelspec": {
   "display_name": ".venv",
   "language": "python",
   "name": "python3"
  },
  "language_info": {
   "codemirror_mode": {
    "name": "ipython",
    "version": 3
   },
   "file_extension": ".py",
   "mimetype": "text/x-python",
   "name": "python",
   "nbconvert_exporter": "python",
   "pygments_lexer": "ipython3",
   "version": "3.10.12"
  }
 },
 "nbformat": 4,
 "nbformat_minor": 2
}
